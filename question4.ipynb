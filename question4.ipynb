{
 "cells": [
  {
   "cell_type": "markdown",
   "metadata": {},
   "source": [
    "**Scene:**\n",
    "\n",
    "Its 3pm and your supervisor has just handed you their old Fortran77 code that they swear \"solved this problem in the 80s\" and \"is really smartly written and easy to follow\". After the meeting you take one look at the code and realize it doesn't. And it's not. \n",
    "\n",
    "But, you said you'd have results by the group meeting the following day, so lets see if we can understand what it is doing, fix it up, and get some results!\n",
    "\n",
    "$_{\\rm Also,\\ this\\ code\\ has\\ somehow\\ already\\ been\\ converted\\ into\\ python\\ 3.\\ who\\ knows}$\n",
    "\n",
    "\n",
    "\n",
    "\n"
   ]
  },
  {
   "cell_type": "code",
   "execution_count": null,
   "metadata": {},
   "outputs": [],
   "source": []
  },
  {
   "cell_type": "markdown",
   "metadata": {},
   "source": [
    "**In this question we will try to develop some smart coding practices, and try to improve upon some poorly written code.**\n",
    "\n",
    "You are provided with the following code in this workbook, \n",
    "which is both memory and computationally inefficient (and poorly commented)\n",
    "\n",
    "Your task is to speed the code up as much as possible, and to make it as memory efficient as possible.\n",
    "Also, you should comment \"important\" lines with what operations they seem to be performing\n",
    "\n",
    "Hints:\n",
    "\n",
    "**1.) Try to get rid of every single for loop (vectorize everything you can)**\n",
    "\n",
    "**2.) Get rid of duplicate memory allocation**\n",
    "\n",
    "> e.g. \n",
    "\n",
    "> array1 = np.zeros((10,10))\n",
    "\n",
    "> array2 = array1 * 2.0\n",
    "\n",
    "> array3 = array2**2 \n",
    "\n",
    "> Instead just use array1 = array1 * 2.0 ; array1 = array1**2, etc.\n",
    "\n",
    "\n",
    "**Marks will be based on:**\n",
    "\n",
    "1.) run time of your improved code compared to the original (0 for loops are needed)\n",
    "\n",
    "2.) memory usage of your code compared to the original\n",
    "\n",
    "3.) Documentation. Fix missing comments (hint: look for lines that start with \"###\"), and feel free to add additional ones if you feel they are necessary"
   ]
  },
  {
   "cell_type": "code",
   "execution_count": null,
   "metadata": {},
   "outputs": [],
   "source": []
  },
  {
   "cell_type": "markdown",
   "metadata": {},
   "source": [
    "**Lets first test some good coding practices here:**\n",
    "\n",
    "1.) **Never use for loops unless you have to - super slow! Vectorize everything**\n",
    "\n",
    "e.g.:"
   ]
  },
  {
   "cell_type": "code",
   "execution_count": 6,
   "metadata": {},
   "outputs": [
    {
     "name": "stdout",
     "output_type": "stream",
     "text": [
      "data created\n",
      "For loop: total = 25002157026354 in time = 30 seconds\n",
      "Vectorized: total = 25002157026354 in time = 0 seconds\n"
     ]
    }
   ],
   "source": [
    "# Make random data arrays\n",
    "\n",
    "import numpy as np\n",
    "import time\n",
    "\n",
    "N = 10000000\n",
    "A = np.arange(N)\n",
    "B = np.random.uniform(size=N)\n",
    "\n",
    "print(\"data created\")\n",
    "\n",
    "# test time to use for loop vs vectorized version\n",
    "\n",
    "# Bad Way\n",
    "start = time.time()\n",
    "total = 0\n",
    "for i in range(N):\n",
    "    total += A[i] * B[i]\n",
    "end = time.time()\n",
    "print(\"For loop: total = %d in time = %d seconds\"%(total, end-start))\n",
    "\n",
    "# Good Way\n",
    "start = time.time()\n",
    "total = np.sum(A*B)\n",
    "end = time.time()\n",
    "print(\"Vectorized: total = %d in time = %d seconds\"%(total, end-start))\n"
   ]
  },
  {
   "cell_type": "markdown",
   "metadata": {},
   "source": [
    "2.) **Don't convert lists to arrays/array to lists unless necessary for some reason**\n",
    "\n",
    "e.g.:\n"
   ]
  },
  {
   "cell_type": "code",
   "execution_count": 7,
   "metadata": {},
   "outputs": [
    {
     "name": "stdout",
     "output_type": "stream",
     "text": [
      "List/For loop: total = 25002157026354 in time = 10 seconds\n",
      "Array Vectorized: total = 25002157026354 in time = 0 seconds\n"
     ]
    }
   ],
   "source": [
    "N = 10000000\n",
    "\n",
    "# Bad Way\n",
    "start = time.time()\n",
    "A = []\n",
    "for i in range(N):\n",
    "    A_i = np.random.uniform()\n",
    "    A.append(A_i)\n",
    "\n",
    "A = np.array(A)\n",
    "end = time.time()\n",
    "print(\"List/For loop: total = %d in time = %d seconds\"%(total, end-start))\n",
    "\n",
    "\n",
    "# Good Way\n",
    "start = time.time()\n",
    "A = np.random.uniform(size=N)\n",
    "end = time.time()\n",
    "print(\"Array Vectorized: total = %d in time = %d seconds\"%(total, end-start))\n"
   ]
  },
  {
   "cell_type": "markdown",
   "metadata": {},
   "source": []
  },
  {
   "cell_type": "markdown",
   "metadata": {},
   "source": [
    "3.) **Don't duplicate arrays unless you actually need the multiple versions**\n",
    "\n",
    "e.g.:"
   ]
  },
  {
   "cell_type": "code",
   "execution_count": 8,
   "metadata": {},
   "outputs": [],
   "source": [
    "A = np.random.uniform(size=(100,100))\n",
    "B = A*2\n",
    "C = B**2\n",
    "\n",
    "# you've now tripled the memory usage to calculate C from A. Unless you actually need A and B later, don't do this. \n",
    "# Just do:\n",
    "A = np.random.uniform(size=(100,100))\n",
    "A = A*2\n",
    "A = A**2\n",
    "\n",
    "# or \n",
    "\n",
    "A = np.random.uniform(size=(100,100))\n",
    "A *= 2\n",
    "A = A**2\n",
    "\n",
    "# or whatever"
   ]
  },
  {
   "cell_type": "code",
   "execution_count": null,
   "metadata": {},
   "outputs": [],
   "source": []
  },
  {
   "cell_type": "markdown",
   "metadata": {},
   "source": [
    "**Code Outline**\n",
    "The code you will be working with is a mockup of a three dimensional \"large scale structure survey\", or a \"mock\" observation. Using this code we want to populate our field of view with the flux from a number (Nhalo) of dark matter halos. \n",
    "\n",
    "Each of these halos will be given:\n",
    "\n",
    "1.) a randomly drawn position in (ra [deg], dec [deg], distance [Mpc (comoving)])\n",
    "\n",
    "2.) a randomly drawn Mass in [Msun], drawn from an analytical Halo Mass Function (HMF) \n",
    "\n",
    "\n",
    "For each of these halos you will calculate a Luminosity, based on the given Mass-to-Luminosity relation mass_to_luminosity(mass). \n",
    "\n",
    "You will then bin the luminosity of these halos into a three dimensional map/array of size (npix_x, npix_y, npix_z) which represents (ra, dec, distance - aka a three dimensional data cube, where each voxel (3D pixel) represents the luminosity coming from that region of space.)\n",
    "\n",
    "You will then perform a simple \"analysis\" of this map "
   ]
  },
  {
   "cell_type": "markdown",
   "metadata": {},
   "source": [
    "**first, a bit on what a \"dark matter halo mass function\" is:**\n",
    "\n",
    "The Halo Mass function describes the number of dark matter halos of a given mass M\n",
    "\n",
    "For this example we will use a simplified version of the form HMF = M * np.exp(-M/Mstar), where M is the mass of a halo\n",
    "\n",
    "How do we randomly draw halo mass values according to a distribution? **This is a very common type of excercise for reserch/job interviews.**\n",
    "\n",
    "Probability distrution function PDF: \n",
    "\n",
    "$f(x)= A x exp(-x/b)$\n",
    "\n",
    "where $A = \\int_0^{inf} f(x) dx$\n",
    "\n",
    "and b is given\n",
    "\n",
    "Cumlative distribution function CDF: \n",
    "\n",
    "$ F(x) = \\int_0^x f(x)dx $\n",
    "\n",
    "so\n",
    "\n",
    "$F(x) = Ab(b-(x+b)exp(-x/b))$\n",
    "\n",
    "Cannot invert this analytically, so must do numerically.\n",
    "\n",
    "With the inverted CDF, CDFinv, we can simply draw a uniform random number in the range (0,1), plug this into the CDFinv, and it will return samples drawn from any PDF that we desire!\n"
   ]
  },
  {
   "cell_type": "code",
   "execution_count": 3,
   "metadata": {},
   "outputs": [
    {
     "data": {
      "image/png": "[encoded data removed]",
      "text/plain": [
       "<Figure size 720x432 with 1 Axes>"
      ]
     },
     "metadata": {
      "needs_background": "light"
     },
     "output_type": "display_data"
    },
    {
     "name": "stderr",
     "output_type": "stream",
     "text": [
      "/Users/ClaraChung/anaconda3/lib/python3.7/site-packages/ipykernel_launcher.py:92: FutureWarning: Using a non-tuple sequence for multidimensional indexing is deprecated; use `arr[tuple(seq)]` instead of `arr[seq]`. In the future this will be interpreted as an array index, `arr[np.array(seq)]`, which will result either in an error or a different result.\n"
     ]
    },
    {
     "data": {
      "image/png": "[encoded data removed]",
      "text/plain": [
       "<Figure size 432x288 with 1 Axes>"
      ]
     },
     "metadata": {
      "needs_background": "light"
     },
     "output_type": "display_data"
    },
    {
     "data": {
      "image/png": "[encoded data removed]",
      "text/plain": [
       "<Figure size 432x288 with 1 Axes>"
      ]
     },
     "metadata": {
      "needs_background": "light"
     },
     "output_type": "display_data"
    },
    {
     "name": "stdout",
     "output_type": "stream",
     "text": [
      "This map_mean represents the intensity map as seen from our sample region.\n",
      "\n",
      "Some (maybe 10, maybe not) of the brighest pixels:\n",
      "\n",
      "Pixel Index:\tIntensity:\n",
      "(2,1)   \t1.4451362145185972e-06\n",
      "(17,61)   \t1.3945545652328633e-06\n",
      "(43,59)   \t1.391315879520499e-06\n",
      "(59,76)   \t1.3915010324825554e-06\n",
      "(65,96)   \t1.3890080131179132e-06\n",
      "(70,27)   \t1.6832567008324325e-06\n",
      "(79,88)   \t1.4384727644882166e-06\n",
      "(80,9)   \t1.529913747060755e-06\n",
      "(88,0)   \t1.3440840072239948e-06\n",
      "(94,90)   \t1.4241802503118155e-06\n",
      "(96,9)   \t1.4218286085137065e-06\n",
      "(98,56)   \t1.4850872572611786e-06\n",
      "\n",
      "Total runtime = 8 seconds\n"
     ]
    }
   ],
   "source": [
    "# IF YOU RUN THE CODE FOR NHALO = 100000000 IT TAKES AROUND 13 MIN BUT IT WORKS I SWEAR\n",
    "\n",
    "import numpy as np\n",
    "import matplotlib.pyplot as plt\n",
    "import scipy.integrate as integrate\n",
    "import scipy.special as special\n",
    "from scipy import interpolate\n",
    "import time\n",
    "\n",
    "# Start timimg the program\n",
    "tstart = time.time()\n",
    "\n",
    "# Halo Parameters\n",
    "Nhalo = 1000000 # set to 100000000 for final run (Note large numbers will probably not even work with the original poorly written code)\n",
    "\n",
    "# Map parameters\n",
    "npix = 100      # set to 1000 for final run\n",
    "fov = 10        # in degrees\n",
    "chi_min = 0.    # minimum distance\n",
    "chi_max = 3.e3  # maximum distance\n",
    "\n",
    "# Pixel parameters\n",
    "dx_pix = fov/npix\n",
    "dy_pix = fov/npix\n",
    "dz_pix = (chi_max - chi_min)/npix\n",
    "\n",
    "ra = np.random.uniform(-fov/2, fov/2, Nhalo)        # right ascention\n",
    "dec = np.random.uniform(-fov/2, fov/2, Nhalo)       # declination\n",
    "chi = np.random.uniform(chi_min, chi_max, Nhalo)    # distance\n",
    "\n",
    "# Set max and Min mass so integral converges\n",
    "Mmin  = 0.\n",
    "Mmax  = 1.e14\n",
    "Mstar = 1.e13\n",
    "\n",
    "\n",
    "# Define Halo Mass Function HMF\n",
    "def hmf_func(M):\n",
    "    return M * np.exp(-M/Mstar)\n",
    "norm_pdf, err = integrate.quad(hmf_func, Mmin, Mmax)\n",
    "\n",
    "# Define Probability Distribution Function PDF\n",
    "def hmf_pdf(M):\n",
    "    return 1./norm_pdf * M * np.exp(-M/Mstar)\n",
    "\n",
    "# Define Cumulative Distribution Function CDF\n",
    "def hmf_cdf(M):\n",
    "    return 1./norm_pdf * Mstar * (Mstar - (M + Mstar) * np.exp(-M/Mstar))\n",
    "\n",
    "\n",
    "# Make array of masses\n",
    "M = np.linspace(Mmin, Mmax, 10000)\n",
    "\n",
    "# Plot HMF and PDF to see if they correlate\n",
    "plt.figure(0, figsize=(10,6))\n",
    "plt.hist(hmf_func(M), bins='auto', label='hmf')\n",
    "plt.plot(hmf_pdf(M), label='pdf')\n",
    "plt.xlabel('Masses')\n",
    "plt.ylabel('Probability Density')\n",
    "plt.title('Plot of HMF')\n",
    "plt.grid(True)\n",
    "plt.legend()\n",
    "plt.show()\n",
    "#plt.clf()\n",
    "\n",
    "# Get CDF value at each M\n",
    "CDF_of_M = hmf_cdf(M)\n",
    "CDF_of_M_inv = interpolate.interp1d(CDF_of_M, M)\n",
    "\n",
    "# Generate some random mass from interpolation\n",
    "mass = CDF_of_M_inv(np.random.uniform(size=Nhalo))\n",
    "\n",
    "# Define function that converts mass to luminosity\n",
    "def mass_to_luminosity(M):\n",
    "    return (M/Mstar)**2.4 \n",
    "\n",
    "Lum = mass_to_luminosity(mass)  # Luminosity\n",
    "Flux = Lum/4/np.pi/chi**2       # Flux\n",
    "\n",
    "# Define empty (zero) map of our view\n",
    "map_1 = np.zeros((npix,npix,npix))\n",
    "\n",
    "# Define indices of the map, all are 1d arrays of size Nhalo\n",
    "i = ((ra +fov/2) // dx_pix).astype(int)\n",
    "j = ((dec+fov/2) // dy_pix).astype(int)\n",
    "k = (chi // dz_pix).astype(int)\n",
    "\n",
    "# Allowed values of h\n",
    "h_val = np.arange(Nhalo, dtype=int)  \n",
    "\n",
    "# Fill in the map  \n",
    "np.add.at(map_1, [i[h_val],j[h_val],k[h_val]], Flux[h_val])\n",
    "  \n",
    "\n",
    "chi_cut = 500   # distance cutoff value\n",
    "#map_sum = np.zeros((npix,npix)) \n",
    "\n",
    "# Pick out k such that k*dz_pix > chi_cut\n",
    "# k would range from 0 to npix-1 but we pick out k's that dont make the cut\n",
    "k = np.arange(0,int(chi_cut/dz_pix)+1, dtype=int) # values of k's that DON'T make the cut\n",
    "\n",
    "#map_sum = np.copy(map_1) # copy map_1 or else we will mutate map_1\n",
    "map_1[:,:,k] = 0 # all values at index [i,j,k] before the cutoff k will be zero \n",
    "map_1 = np.sum(map_1, axis=2) # sum all values in axis 2 (\n",
    "                                  # hence summing over only values with index k above the cutoff)\n",
    "npix_include = npix-len(k) # number of k's that DO make the cut\n",
    "\n",
    "# Define and plot mean flux of our sample region\n",
    "map_1 = map_1/npix_include\n",
    "map_mean = map_1\n",
    "\n",
    "# Plot the intensity map\n",
    "plt.figure(1)\n",
    "plt.imshow(map_mean, aspect='auto')\n",
    "plt.title('Intensity Map')\n",
    "plt.xlabel('x pixel')\n",
    "plt.ylabel('y pixel')\n",
    "plt.show()\n",
    "#plt.clf()\n",
    "\n",
    "plt.figure(2)\n",
    "plt.hist(map_mean, bins='auto')\n",
    "plt.title('Intensity Map Histogram')\n",
    "plt.xlabel('Intensity')\n",
    "plt.ylabel('Frequency')\n",
    "plt.ticklabel_format(style='sci', axis='x')\n",
    "plt.show()\n",
    "#plt.clf()\n",
    "print(\"This map_mean represents the intensity map as seen from our sample region.\\n\")\n",
    "\n",
    "# Finding brightest pixels\n",
    "x_max, y_max = np.where(map_mean > 1.34e-06)\n",
    "map_max = map_mean[x_max, y_max]\n",
    "print(\"Some (maybe 10, maybe not) of the brighest pixels:\\n\\nPixel Index:\\tIntensity:\")\n",
    "for i in range(len(x_max)):\n",
    "    print(\"({0},{1})   \\t{2}\".format(x_max[i],y_max[i],map_max[i]))\n",
    "    \n",
    "\n",
    "tend = time.time()\n",
    "print(\"\\nTotal runtime = %d seconds\" % (tend-tstart))                   \n",
    "\n",
    "               "
   ]
  },
  {
   "cell_type": "code",
   "execution_count": null,
   "metadata": {},
   "outputs": [],
   "source": [
    "# Analyze the map \"map_mean\"\n",
    "\n",
    "# What does this map_mean represent? Plot it. \n",
    "\n",
    "# Take the histogram of the pixel intensities. Plot that\n",
    "\n",
    "# find the indices of the 10 brightest pixels. Print those out "
   ]
  },
  {
   "cell_type": "code",
   "execution_count": null,
   "metadata": {},
   "outputs": [],
   "source": []
  },
  {
   "cell_type": "code",
   "execution_count": null,
   "metadata": {},
   "outputs": [],
   "source": []
  },
  {
   "cell_type": "code",
   "execution_count": null,
   "metadata": {},
   "outputs": [],
   "source": []
  }
 ],
 "metadata": {
  "kernelspec": {
   "display_name": "Python 3",
   "language": "python",
   "name": "python3"
  },
  "language_info": {
   "codemirror_mode": {
    "name": "ipython",
    "version": 3
   },
   "file_extension": ".py",
   "mimetype": "text/x-python",
   "name": "python",
   "nbconvert_exporter": "python",
   "pygments_lexer": "ipython3",
   "version": "3.7.0"
  }
 },
 "nbformat": 4,
 "nbformat_minor": 2
}
