{
 "cells": [
  {
   "cell_type": "markdown",
   "metadata": {},
   "source": [
    "## Question 5"
   ]
  },
  {
   "cell_type": "markdown",
   "metadata": {},
   "source": [
    "In this question we are tasked with iterating a complex number Z, and plotting it depending on how its value diverges or stays bounded during it's iterations"
   ]
  },
  {
   "cell_type": "code",
   "execution_count": 11,
   "metadata": {
    "collapsed": false
   },
   "outputs": [],
   "source": [
    "import numpy as np\n",
    "from math import *\n",
    "from PIL import Image, ImageDraw\n",
    "\n",
    "\n",
    "\n",
    "def mandelbrot(c,iterations):\n",
    "    '''\n",
    "    This function iterates the z complex value. The general formula is:\n",
    "    z = z^2 + c, where c can be complex as well. It outputs the number of\n",
    "    iterations done before the value diverges outside of the boundary of \n",
    "    |z|^2<=2\n",
    "    '''\n",
    "    z = 0\n",
    "    n = 0\n",
    "    while abs(z) <= 2 and n < iterations:\n",
    "        z = z**2 + c\n",
    "        n += 1\n",
    "    return n\n",
    "\n",
    "\n",
    "\n",
    "def colour_pixels(m,iterations):\n",
    "    '''\n",
    "    This function takes in the m value that is created by calling the mandelbrot\n",
    "    function, and the iteration of the pixel, and\n",
    "    outputs it's colour, based on its iteration number\n",
    "    '''\n",
    "    hue = (255*m//iterations) \n",
    "    saturation = 255\n",
    "    if m < iterations:\n",
    "        value = 255\n",
    "    else:\n",
    "        value = 0\n",
    "    return hue,saturation,value\n",
    "    \n",
    "    \n",
    "\n",
    "def mandelbrot_fractal(iterations,image_width,image_height):\n",
    "    '''\n",
    "    This function plots the mandelbrot set.\n",
    "    '''\n",
    "    #The mode HSV used here is hue, saturation, and color\n",
    "    im = Image.new('HSV', (image_width, image_height), (0, 0, 0))\n",
    "    draw_pixels = ImageDraw.Draw(im)\n",
    "    \n",
    "    #Here we are setting the axis of the image\n",
    "    re_x1 = -2\n",
    "    im_y1 = -1\n",
    "    re_x2 = 1\n",
    "    im_y2 = 1\n",
    "    re_size = re_x2 - re_x1\n",
    "    im_size = im_y2 - im_y1\n",
    "    \n",
    "    #This double for loop iterates over each pixel to give it it's value and color\n",
    "    for x in np.arange(0, image_width, 0.5):\n",
    "        for y in np.arange(0, image_height, 0.5):\n",
    "            re_x = re_x1 + (x/image_width) * (re_size)\n",
    "            im_y = im_y1 + (y/image_height) * (im_size)\n",
    "            c = complex(re_x, im_y)\n",
    "            m = mandelbrot(c,iterations)\n",
    "            hue, saturation, value = colour_pixels(m,iterations)\n",
    "            draw_pixels.point([x, y], (hue, saturation, value))\n",
    "    \n",
    "    return im.show()#Returning the picture\n",
    "    \n",
    "\n",
    "mandelbrot_fractal(100,600,400) #NOTE THIS TAKES ABOUT 10 SECONDS TO GENERATE THE GRAPH\n",
    "\n"
   ]
  },
  {
   "cell_type": "markdown",
   "metadata": {},
   "source": [
    "## Making the zoom"
   ]
  },
  {
   "cell_type": "code",
   "execution_count": null,
   "metadata": {
    "collapsed": true
   },
   "outputs": [],
   "source": [
    "Just changing the image parameters to get a zoomed picture on one of the parts of the fractal."
   ]
  },
  {
   "cell_type": "code",
   "execution_count": 13,
   "metadata": {
    "collapsed": true
   },
   "outputs": [],
   "source": [
    "import numpy as np\n",
    "from math import *\n",
    "from PIL import Image, ImageDraw\n",
    "\n",
    "\n",
    "\n",
    "def mandelbrot(c,iterations):\n",
    "    '''\n",
    "    This function iterates the z complex value. The general formula is:\n",
    "    z = z^2 + c, where c can be complex as well. It outputs the number of\n",
    "    iterations done before the value diverges outside of the boundary of \n",
    "    |z|^2<=2\n",
    "    '''\n",
    "    z = 0\n",
    "    n = 0\n",
    "    while abs(z) <= 2 and n < iterations:\n",
    "        z = z**2 + c\n",
    "        n += 1\n",
    "    return n\n",
    "\n",
    "\n",
    "\n",
    "def colour_pixels(m,iterations):\n",
    "    '''\n",
    "    This function takes in the m value that is created by calling the mandelbrot\n",
    "    function, and the iteration of the pixel, and\n",
    "    outputs it's colour, based on its iteration number\n",
    "    '''\n",
    "    hue = (255*m//iterations)\n",
    "    saturation = 255\n",
    "    if m < iterations:\n",
    "        value = 255\n",
    "    else:\n",
    "        value = 0\n",
    "    return hue,saturation,value\n",
    "    \n",
    "    \n",
    "\n",
    "def mandelbrot_fractal(iterations,image_width,image_height):\n",
    "    '''\n",
    "    This function plots the mandelbrot set.\n",
    "    '''\n",
    "    #The mode HSV used here is hue, saturation, and color\n",
    "    im = Image.new('HSV', (image_width, image_height), (0, 0, 0))\n",
    "    draw_pixels = ImageDraw.Draw(im)\n",
    "    \n",
    "    \n",
    "    re_x1 = -2.1\n",
    "    im_y1 = -1\n",
    "    re_x2 = 2\n",
    "    im_y2 = -1.1\n",
    "    re_size = re_x2 - re_x1\n",
    "    im_size = im_y2 - im_y1\n",
    "    \n",
    "\n",
    "    for x in np.arange(0, image_width, 0.5):\n",
    "        for y in np.arange(0, image_height, 0.5):\n",
    "            re_x = re_x1 + (x/image_width) * (re_size)\n",
    "            im_y = im_y1 + (y/image_height) * (im_size)\n",
    "            c = complex(re_x, im_y)\n",
    "            m = mandelbrot(c,iterations)\n",
    "            hue, saturation, value = colour_pixels(m,iterations)\n",
    "            draw_pixels.point([x, y], (hue, saturation, value))\n",
    "    \n",
    "    return im.show()\n",
    "    \n",
    "\n",
    "mandelbrot_fractal(100,600,400) #NOTE THIS TAKES ABOUT 10 SECONDS TO GENERATE THE GRAPH\n"
   ]
  },
  {
   "cell_type": "code",
   "execution_count": null,
   "metadata": {
    "collapsed": true
   },
   "outputs": [],
   "source": []
  }
 ],
 "metadata": {
  "kernelspec": {
   "display_name": "Python 3",
   "language": "python",
   "name": "python3"
  },
  "language_info": {
   "codemirror_mode": {
    "name": "ipython",
    "version": 3
   },
   "file_extension": ".py",
   "mimetype": "text/x-python",
   "name": "python",
   "nbconvert_exporter": "python",
   "pygments_lexer": "ipython3",
   "version": "3.6.0"
  }
 },
 "nbformat": 4,
 "nbformat_minor": 2
}
