{
 "cells": [
  {
   "cell_type": "markdown",
   "metadata": {},
   "source": [
    "## Question 1"
   ]
  },
  {
   "cell_type": "markdown",
   "metadata": {},
   "source": [
    "In this question our task is to create a function that takes in a text file, a word to find, and a word to replace it with."
   ]
  },
  {
   "cell_type": "code",
   "execution_count": 2,
   "metadata": {
    "collapsed": false
   },
   "outputs": [],
   "source": [
    "\n",
    "from math import *\n",
    "import numpy as np\n",
    "from scipy import *\n",
    "\n",
    "    \n",
    "def name_find_replace(name,find,replace):\n",
    "    '''\n",
    "    This function finds a file called 'name', and finds a word called find, and\n",
    "    replaces it with replace. Then it creates a new file with the replaced word\n",
    "    \n",
    "    When calling this function make sure to add spaces before and after the \n",
    "    find and replace strings, so that the words are separated by a space\n",
    "    '''\n",
    "\n",
    "    open_file = open(name, 'r')\n",
    "    contents = open_file.read()\n",
    "    \n",
    "    newfile = open('replace.txt', 'w+')\n",
    "    contents = contents.replace(find,replace)\n",
    "    newfile.write(contents)\n",
    "\n",
    "\n",
    "\n",
    "\n",
    "name_find_replace('testparagraph2.txt', ' Bob ', ' a cat ')"
   ]
  },
  {
   "cell_type": "markdown",
   "metadata": {},
   "source": []
  }
 ],
 "metadata": {
  "kernelspec": {
   "display_name": "Python 3",
   "language": "python",
   "name": "python3"
  },
  "language_info": {
   "codemirror_mode": {
    "name": "ipython",
    "version": 3
   },
   "file_extension": ".py",
   "mimetype": "text/x-python",
   "name": "python",
   "nbconvert_exporter": "python",
   "pygments_lexer": "ipython3",
   "version": "3.6.0"
  }
 },
 "nbformat": 4,
 "nbformat_minor": 2
}
