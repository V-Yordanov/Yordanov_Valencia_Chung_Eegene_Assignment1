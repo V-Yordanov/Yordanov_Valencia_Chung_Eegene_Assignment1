{
 "cells": [
  {
   "cell_type": "markdown",
   "metadata": {},
   "source": [
    "## Question 2.A"
   ]
  },
  {
   "cell_type": "markdown",
   "metadata": {},
   "source": [
    "In this question it asks us to create a routine that generate the binomial coefficients given a n and k value."
   ]
  },
  {
   "cell_type": "code",
   "execution_count": 1,
   "metadata": {
    "collapsed": true
   },
   "outputs": [],
   "source": [
    "from math import *\n",
    "import numpy as np\n",
    "import time as time\n",
    "import random as random\n",
    "import matplotlib.pyplot as plt\n",
    "\n",
    "\n",
    "def binomialCoeff(n,k):    \n",
    "    '''\n",
    "    This function takes two values, n and k, and calculates their binomial\n",
    "    coefficient\n",
    "    '''  \n",
    "    if k>n:\n",
    "        return 'The value of k cannot be greater than n'\n",
    "    #Initializing all variables and arrays \n",
    "    delete_slice = k-n\n",
    "    i=0\n",
    "    j=0    \n",
    "    numerator = 1\n",
    "    denominator = 1   \n",
    "    a = np.arange(n+1,dtype='int64')\n",
    "    a = np.delete(a,0)\n",
    "    a = a[delete_slice:] #This is to cancel out some of the factorial terms\n",
    "    c_size = n-k \n",
    "    c = np.arange(c_size+1,dtype='int64')\n",
    "    c = np.delete(c,0)\n",
    "\n",
    "    \n",
    "    #These for loops and if statements are responsible for calculating the \n",
    "    #factorials. I Calculate the numerator and denominator terms separately\n",
    "    if n==k:\n",
    "        numerator = 1   \n",
    "    else:\n",
    "        for i in a:\n",
    "            numerator = numerator*i       \n",
    "    for j in c:\n",
    "        denominator = denominator*j\n",
    "        \n",
    "    #Calculating the denominator by multiplying the denominator factors above\n",
    "    #then dividing the numerator by the denominator to give the binomial coeff\n",
    "    denominator = denominator\n",
    "    binomial_coefficient = numerator//denominator\n",
    "    \n",
    "    return binomial_coefficient"
   ]
  },
  {
   "cell_type": "markdown",
   "metadata": {},
   "source": [
    "Here are some binomial coefficients to show it works"
   ]
  },
  {
   "cell_type": "code",
   "execution_count": 5,
   "metadata": {
    "collapsed": false
   },
   "outputs": [
    {
     "name": "stdout",
     "output_type": "stream",
     "text": [
      "21\n",
      "1\n",
      "1\n",
      "The value of k cannot be greater than n\n",
      "4368\n",
      "70\n"
     ]
    }
   ],
   "source": [
    "print(binomialCoeff(7,2))\n",
    "print(binomialCoeff(0,0))\n",
    "print(binomialCoeff(1,0))\n",
    "print(binomialCoeff(0,1))\n",
    "print(binomialCoeff(16,5))\n",
    "print(binomialCoeff(8,4))"
   ]
  },
  {
   "cell_type": "markdown",
   "metadata": {},
   "source": [
    "## Question 2.B"
   ]
  },
  {
   "cell_type": "markdown",
   "metadata": {},
   "source": [
    "In this question it asks us to generate the first 20 lines of Pascal's Triangle. We can do this using the binomial coefficent formula in the fisrt part of the question. Each line can be given by n, and each entry of that line "
   ]
  },
  {
   "cell_type": "code",
   "execution_count": 6,
   "metadata": {
    "collapsed": true
   },
   "outputs": [],
   "source": [
    "#Now to write the first 20 lines of pascals triangle. The binomial coefficient\n",
    "#function can help because n is the line number starting at the zeroth line,\n",
    "#and k is the number of the entry in the line. k <= n+1\n",
    "def line_generator(n):\n",
    "    '''\n",
    "    This function creates the given line of pascals triangle. For this part of\n",
    "    the question, the line number is the same thing as n, in the binomial\n",
    "    coefficient formula\n",
    "    '''\n",
    "    #initializing variables and lists\n",
    "    i = 0\n",
    "    k = n+1\n",
    "    line_elements = []\n",
    "    \n",
    "    #This for loop calculates each element of the line and appends its value to\n",
    "    #a list\n",
    "    for i in range(k):\n",
    "        entry = binomialCoeff(n,i)\n",
    "        line_elements.append(entry)\n",
    "\n",
    "    return line_elements\n",
    "    \n",
    "\n",
    "\n",
    "def pascals_triangle(num_lines):\n",
    "    '''\n",
    "    Now that we have our functions, let's print out the first 20 lines of\n",
    "    Pascal's triangle\n",
    "    \n",
    "    This function print x amount of lines in Pascal's triangle\n",
    "    '''\n",
    "    for i in range(num_lines):\n",
    "        print(line_generator(i))"
   ]
  },
  {
   "cell_type": "code",
   "execution_count": 9,
   "metadata": {
    "collapsed": false
   },
   "outputs": [
    {
     "name": "stdout",
     "output_type": "stream",
     "text": [
      "[1]\n",
      "[1, 1]\n",
      "[1, 2, 1]\n",
      "[1, 3, 3, 1]\n",
      "[1, 4, 6, 4, 1]\n",
      "[1, 5, 10, 10, 5, 1]\n",
      "[1, 6, 15, 20, 15, 6, 1]\n",
      "[1, 7, 21, 35, 35, 21, 7, 1]\n",
      "[1, 8, 28, 56, 70, 56, 28, 8, 1]\n",
      "[1, 9, 36, 84, 126, 126, 84, 36, 9, 1]\n",
      "[1, 10, 45, 120, 210, 252, 210, 120, 45, 10, 1]\n",
      "[1, 11, 55, 165, 330, 462, 462, 330, 165, 55, 11, 1]\n",
      "[1, 12, 66, 220, 495, 792, 924, 792, 495, 220, 66, 12, 1]\n",
      "[1, 13, 78, 286, 715, 1287, 1716, 1716, 1287, 715, 286, 78, 13, 1]\n",
      "[1, 14, 91, 364, 1001, 2002, 3003, 3432, 3003, 2002, 1001, 364, 91, 14, 1]\n",
      "[1, 15, 105, 455, 1365, 3003, 5005, 6435, 6435, 5005, 3003, 1365, 455, 105, 15, 1]\n",
      "[1, 16, 120, 560, 1820, 4368, 8008, 11440, 12870, 11440, 8008, 4368, 1820, 560, 120, 16, 1]\n",
      "[1, 17, 136, 680, 2380, 6188, 12376, 19448, 24310, 24310, 19448, 12376, 6188, 2380, 680, 136, 17, 1]\n",
      "[1, 18, 153, 816, 3060, 8568, 18564, 31824, 43758, 48620, 43758, 31824, 18564, 8568, 3060, 816, 153, 18, 1]\n",
      "[1, 19, 171, 969, 3876, 11628, 27132, 50388, 75582, 92378, 92378, 75582, 50388, 27132, 11628, 3876, 969, 171, 19, 1]\n"
     ]
    }
   ],
   "source": [
    "(pascals_triangle(20))"
   ]
  },
  {
   "cell_type": "markdown",
   "metadata": {},
   "source": [
    "## Question 2.C"
   ]
  },
  {
   "cell_type": "markdown",
   "metadata": {},
   "source": [
    "In this problem we code the bent coin probability function and use it to determine the probability of a batter with p=0.25 hitting a ball once in 4 tries"
   ]
  },
  {
   "cell_type": "code",
   "execution_count": 12,
   "metadata": {
    "collapsed": false
   },
   "outputs": [
    {
     "name": "stdout",
     "output_type": "stream",
     "text": [
      "The probability of the batter hitting the ball once in four tries is 0.421875\n"
     ]
    }
   ],
   "source": [
    "def coin_prob(n,k,p):\n",
    "    '''\n",
    "    This is the coin probability function, using the binomial coefficient fn\n",
    "    \n",
    "    Here we are physically flipping the coin n times, and hoping to get heads\n",
    "    k times\n",
    "    '''\n",
    "    prob = binomialCoeff(n,k)*(p**(k))*(1-p)**(n-k)\n",
    "    return prob\n",
    "\n",
    "\n",
    "#The print below is telling me that the probability of any of the combinations\n",
    "#below totals to 1. As expected\n",
    "#print(coin_prob(4,0,0.5)+coin_prob(4,1,0.5)+coin_prob(4,2,0.5)+coin_prob(4,3,0.5)+coin_prob(4,4,0.5))\n",
    "print('The probability of the batter hitting the ball once in four tries is', coin_prob(4,1,0.25))"
   ]
  },
  {
   "cell_type": "markdown",
   "metadata": {},
   "source": [
    "## Question 2.D"
   ]
  },
  {
   "cell_type": "markdown",
   "metadata": {},
   "source": [
    "In this problem we simulate a batter with p = 0.25, to see how many times they manage to hit the ball in N tries."
   ]
  },
  {
   "cell_type": "code",
   "execution_count": 17,
   "metadata": {
    "collapsed": false
   },
   "outputs": [
    {
     "name": "stdout",
     "output_type": "stream",
     "text": [
      "For N=10 20.0 % of the hits were successful\n",
      "For N=100 19 % of the hits were successful\n",
      "For N=1000 23.3 % of the hits were successful\n"
     ]
    },
    {
     "data": {
      "image/png": "[encoded data removed]",
      "text/plain": [
       "<matplotlib.figure.Figure at 0x2b365a36358>"
      ]
     },
     "metadata": {},
     "output_type": "display_data"
    }
   ],
   "source": [
    "#Here we are simulating, a baseball player with p = 0.25. We will use a random\n",
    "#number generator to obtain a number between 0 and 1. If the number is less\n",
    "#than 0.25, it will be recorded as a hit, if it is greater it is a miss\n",
    "\n",
    "def hit_or_miss(N):\n",
    "    hits = 0\n",
    "    misses = 0\n",
    "    for i in range(N):\n",
    "        hit_miss = random.random()\n",
    "        if hit_miss >= 0.25:\n",
    "            misses += 1\n",
    "        elif hit_miss <= 0.25:\n",
    "            hits += 1\n",
    "        else:\n",
    "            print('Something wrong happened')\n",
    "    return hits,misses\n",
    "\n",
    "\n",
    "N10 = hit_or_miss(10)\n",
    "N100 = hit_or_miss(100)\n",
    "N1000 = hit_or_miss(1000)\n",
    "\n",
    "\n",
    "print('For N=10', N10[0]/10*100,'% of the hits were successful')\n",
    "print('For N=100', N100[0],'% of the hits were successful')\n",
    "print('For N=1000', N1000[0]/10,'% of the hits were successful')\n",
    "\n",
    "\n",
    "N_array = [N10[0]/10*100,N100[0],N1000[0]/10]\n",
    "x_vals = [1,2,3]\n",
    "p_value = [25]*3 #In percent, not decimal\n",
    "\n",
    "\n",
    "plt.scatter(1,N10[0]/10*100, label = 'N = 10')\n",
    "plt.scatter(2,N100[0], label = 'N = 100')\n",
    "plt.scatter(3,N1000[0]/10, label = 'N = 1000')\n",
    "plt.plot(x_vals,p_value, label = 'Exact p value')\n",
    "plt.xlabel('N_value')\n",
    "plt.ylabel('Percent Success')\n",
    "plt.title('Batting Simulation For P = 0.25')\n",
    "plt.legend()\n",
    "plt.show()"
   ]
  },
  {
   "cell_type": "code",
   "execution_count": null,
   "metadata": {
    "collapsed": true
   },
   "outputs": [],
   "source": []
  },
  {
   "cell_type": "code",
   "execution_count": null,
   "metadata": {
    "collapsed": true
   },
   "outputs": [],
   "source": []
  }
 ],
 "metadata": {
  "kernelspec": {
   "display_name": "Python 3",
   "language": "python",
   "name": "python3"
  },
  "language_info": {
   "codemirror_mode": {
    "name": "ipython",
    "version": 3
   },
   "file_extension": ".py",
   "mimetype": "text/x-python",
   "name": "python",
   "nbconvert_exporter": "python",
   "pygments_lexer": "ipython3",
   "version": "3.6.0"
  }
 },
 "nbformat": 4,
 "nbformat_minor": 2
}
